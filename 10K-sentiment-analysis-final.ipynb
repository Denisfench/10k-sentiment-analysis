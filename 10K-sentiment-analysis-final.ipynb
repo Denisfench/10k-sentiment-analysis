{
 "cells": [
  {
   "cell_type": "code",
   "execution_count": 6,
   "outputs": [],
   "source": [
    "import os\n",
    "\n",
    "import nltk\n",
    "import wrds\n",
    "import pandas as pd"
   ],
   "metadata": {
    "collapsed": false,
    "pycharm": {
     "name": "#%%\n"
    }
   }
  },
  {
   "cell_type": "code",
   "execution_count": 2,
   "outputs": [
    {
     "name": "stdout",
     "output_type": "stream",
     "text": [
      "Loading library list...\n",
      "Done\n"
     ]
    }
   ],
   "source": [
    "conn = wrds.Connection(wrds_username='denisfench')"
   ],
   "metadata": {
    "collapsed": false,
    "pycharm": {
     "name": "#%%\n"
    }
   }
  },
  {
   "cell_type": "code",
   "execution_count": 5,
   "outputs": [
    {
     "name": "stdout",
     "output_type": "stream",
     "text": [
      "The length of the full SP500 list is:  985474\n"
     ]
    }
   ],
   "source": [
    "### Get S&P500 Index Membership from CRSP\n",
    "\n",
    "sp500 = conn.raw_sql(\"\"\"\n",
    "                        select a.*, b.date, b.ret\n",
    "                        from crsp.msp500list as a,\n",
    "                        crsp.msf as b\n",
    "                        where a.permno=b.permno\n",
    "                        and b.date >= a.start and b.date<= a.ending\n",
    "                        and b.date>='01/01/2000'\n",
    "                        order by date;\n",
    "                        \"\"\", date_cols=['start', 'ending', 'date'])\n",
    "\n",
    "\n",
    "### Add Other Company Identifiers from CRSP.MSENAMES\n",
    "### - You don't need this step if only PERMNO is required\n",
    "### - This step aims to add TICKER, SHRCD, EXCHCD and etc.\n",
    "\n",
    "mse = conn.raw_sql(\"\"\"\n",
    "                        select comnam, ncusip, namedt, nameendt,\n",
    "                        permno, shrcd, exchcd, hsiccd, ticker\n",
    "                        from crsp.msenames\n",
    "                        \"\"\", date_cols=['namedt', 'nameendt'])\n",
    "\n",
    "# if nameendt is missing then set to today date\n",
    "mse['nameendt']=mse['nameendt'].fillna(pd.to_datetime('today'))\n",
    "\n",
    "# Merge with SP500 data\n",
    "sp500_full = pd.merge(sp500, mse, how = 'left', on = 'permno')\n",
    "\n",
    "print(\"The length of the full SP500 list is: \", len(sp500_full))"
   ],
   "metadata": {
    "collapsed": false,
    "pycharm": {
     "name": "#%%\n"
    }
   }
  },
  {
   "cell_type": "code",
   "execution_count": 6,
   "outputs": [
    {
     "data": {
      "text/plain": "         date   permno                            comnam    ncusip  shrcd  \\\n0  2000-01-31  40416.0                 AVON PRODUCTS INC  05430310   11.0   \n1  2000-01-31  44062.0            SPRINGS INDUSTRIES INC  85178310   11.0   \n2  2000-01-31  26403.0                    DISNEY WALT CO  25468710   11.0   \n3  2000-01-31  60628.0                        FEDEX CORP  31428X10   11.0   \n4  2000-01-31  69032.0   MORGAN STANLEY DEAN WITTER & CO  61744644   11.0   \n5  2000-01-31  21186.0                     WESTVACO CORP  96154810   11.0   \n6  2000-01-31  52978.0                        HASBRO INC  41805610   11.0   \n7  2000-01-31  21371.0               CARDINAL HEALTH INC  14149Y10   11.0   \n8  2000-01-31  75333.0          BURLINGTON RESOURCES INC  12201410   11.0   \n9  2000-01-31  23317.0                        ENRON CORP  29356110   11.0   \n10 2000-01-31  64995.0                       KEYCORP NEW  49326710   11.0   \n11 2000-01-31  39490.0                       APACHE CORP  03741110   11.0   \n12 2000-01-31  17144.0                 GENERAL MILLS INC  37033410   11.0   \n13 2000-01-31  84372.0                    N C R CORP NEW  62886E10   11.0   \n14 2000-01-31  75857.0                    SOLECTRON CORP  83418210   11.0   \n15 2000-01-31  75489.0                       STAPLES INC  85503010   11.0   \n16 2000-01-31  88388.0                MEDIAONE GROUP INC  58440J10   11.0   \n17 2000-01-31  59408.0              BANK OF AMERICA CORP  06050510   11.0   \n18 2000-01-31  40483.0                   TIME WARNER INC  88731510   11.0   \n19 2000-01-31  66800.0  AMERICAN INTERNATIONAL GROUP INC  02687410   11.0   \n\n    exchcd  hsiccd ticker   gvkey iid      start     ending       ret  \\\n0      1.0  2844.0    AVP  001920  01 1967-05-18 2015-03-20 -0.035985   \n1      1.0  2221.0    SMI  009963  01 1967-06-29 2000-12-11 -0.089202   \n2      1.0  4833.0    DIS  003980  01 1976-07-01 2022-03-31  0.241453   \n3      1.0  4513.0    FDX  004598  01 1980-11-06 2022-03-31 -0.033588   \n4      1.0  6282.0    MWD  012124  01 1995-09-22 2022-03-31 -0.069002   \n5      1.0  2631.0      W  011446  01 1957-03-01 2022-03-31 -0.159004   \n6      1.0  3944.0    HAS  005518  01 1984-09-13 2022-03-31 -0.204752   \n7      1.0  5122.0    CAH  002751  01 1997-05-27 2022-03-31 -0.003916   \n8      1.0  1311.0     BR  015084  01 1993-11-23 2006-03-31 -0.030246   \n9      1.0  1311.0    ENE  006127  01 1951-09-06 2001-11-29  0.529577   \n10     1.0  6021.0    KEY  009783  01 1994-03-02 2022-03-31 -0.050847   \n11     1.0  1311.0    APA  001678  01 1997-07-28 2022-03-31 -0.011844   \n12     1.0  2099.0    GIS  005071  01 1969-02-13 2022-03-31 -0.119930   \n13     1.0  3575.0    NCR  007648  01 2000-01-03 2007-09-28  0.016502   \n14     1.0  3672.0    SLR  017110  01 1998-12-31 2007-10-01 -0.236531   \n15     3.0  5940.0   SPLS  015521  01 1998-10-07 2017-09-15  0.147590   \n16     1.0  4813.0    UMG  061464  01 1998-06-15 2000-06-15  0.034988   \n17     1.0  6021.0    BAC  007647  01 1976-07-01 2022-03-31 -0.034869   \n18     1.0  7812.0    TWX  010576  01 1964-04-23 2001-01-12  0.105445   \n19     1.0  6331.0    AIG  001487  01 1980-02-14 2022-03-31 -0.034682   \n\n           cik   sic   naics    gind   gsubind  \n0   0000008868  2844  325620  303020  30302010  \n1   0000093102  2211  313210  252010  25201020  \n2   0001744489  4888  515120  502020  50202010  \n3   0001048911  4513  492110  203010  20301010  \n4   0000895421  6211  523110  402030  40203020  \n5   0001159297  2631  322130  151030  15103020  \n6   0000046080  3944  339930  252020  25202010  \n7   0000721371  5122  424210  351020  35102010  \n8   0000833320  1311  211111  101020  10102020  \n9   0001024401  5172  422720  551050  55105010  \n10  0000091576  6020  522110  401010  40101015  \n11  0001841666  1311    2111  101020  10102020  \n12  0000040704  2040  311230  302020  30202030  \n13  0000070866  7372  511210  451030  45103010  \n14  0000835541  3672  334412  452030  45203020  \n15  0000791519  5110  424120  255040  25504040  \n16  0000732718  4841  513220  254010  25401020  \n17  0000070858  6020  522110  401010  40101010  \n18  0001021387  7812  512110  254010  25401030  \n19  0000005272  6331  524126  403010  40301030  ",
      "text/html": "<div>\n<style scoped>\n    .dataframe tbody tr th:only-of-type {\n        vertical-align: middle;\n    }\n\n    .dataframe tbody tr th {\n        vertical-align: top;\n    }\n\n    .dataframe thead th {\n        text-align: right;\n    }\n</style>\n<table border=\"1\" class=\"dataframe\">\n  <thead>\n    <tr style=\"text-align: right;\">\n      <th></th>\n      <th>date</th>\n      <th>permno</th>\n      <th>comnam</th>\n      <th>ncusip</th>\n      <th>shrcd</th>\n      <th>exchcd</th>\n      <th>hsiccd</th>\n      <th>ticker</th>\n      <th>gvkey</th>\n      <th>iid</th>\n      <th>start</th>\n      <th>ending</th>\n      <th>ret</th>\n      <th>cik</th>\n      <th>sic</th>\n      <th>naics</th>\n      <th>gind</th>\n      <th>gsubind</th>\n    </tr>\n  </thead>\n  <tbody>\n    <tr>\n      <th>0</th>\n      <td>2000-01-31</td>\n      <td>40416.0</td>\n      <td>AVON PRODUCTS INC</td>\n      <td>05430310</td>\n      <td>11.0</td>\n      <td>1.0</td>\n      <td>2844.0</td>\n      <td>AVP</td>\n      <td>001920</td>\n      <td>01</td>\n      <td>1967-05-18</td>\n      <td>2015-03-20</td>\n      <td>-0.035985</td>\n      <td>0000008868</td>\n      <td>2844</td>\n      <td>325620</td>\n      <td>303020</td>\n      <td>30302010</td>\n    </tr>\n    <tr>\n      <th>1</th>\n      <td>2000-01-31</td>\n      <td>44062.0</td>\n      <td>SPRINGS INDUSTRIES INC</td>\n      <td>85178310</td>\n      <td>11.0</td>\n      <td>1.0</td>\n      <td>2221.0</td>\n      <td>SMI</td>\n      <td>009963</td>\n      <td>01</td>\n      <td>1967-06-29</td>\n      <td>2000-12-11</td>\n      <td>-0.089202</td>\n      <td>0000093102</td>\n      <td>2211</td>\n      <td>313210</td>\n      <td>252010</td>\n      <td>25201020</td>\n    </tr>\n    <tr>\n      <th>2</th>\n      <td>2000-01-31</td>\n      <td>26403.0</td>\n      <td>DISNEY WALT CO</td>\n      <td>25468710</td>\n      <td>11.0</td>\n      <td>1.0</td>\n      <td>4833.0</td>\n      <td>DIS</td>\n      <td>003980</td>\n      <td>01</td>\n      <td>1976-07-01</td>\n      <td>2022-03-31</td>\n      <td>0.241453</td>\n      <td>0001744489</td>\n      <td>4888</td>\n      <td>515120</td>\n      <td>502020</td>\n      <td>50202010</td>\n    </tr>\n    <tr>\n      <th>3</th>\n      <td>2000-01-31</td>\n      <td>60628.0</td>\n      <td>FEDEX CORP</td>\n      <td>31428X10</td>\n      <td>11.0</td>\n      <td>1.0</td>\n      <td>4513.0</td>\n      <td>FDX</td>\n      <td>004598</td>\n      <td>01</td>\n      <td>1980-11-06</td>\n      <td>2022-03-31</td>\n      <td>-0.033588</td>\n      <td>0001048911</td>\n      <td>4513</td>\n      <td>492110</td>\n      <td>203010</td>\n      <td>20301010</td>\n    </tr>\n    <tr>\n      <th>4</th>\n      <td>2000-01-31</td>\n      <td>69032.0</td>\n      <td>MORGAN STANLEY DEAN WITTER &amp; CO</td>\n      <td>61744644</td>\n      <td>11.0</td>\n      <td>1.0</td>\n      <td>6282.0</td>\n      <td>MWD</td>\n      <td>012124</td>\n      <td>01</td>\n      <td>1995-09-22</td>\n      <td>2022-03-31</td>\n      <td>-0.069002</td>\n      <td>0000895421</td>\n      <td>6211</td>\n      <td>523110</td>\n      <td>402030</td>\n      <td>40203020</td>\n    </tr>\n    <tr>\n      <th>5</th>\n      <td>2000-01-31</td>\n      <td>21186.0</td>\n      <td>WESTVACO CORP</td>\n      <td>96154810</td>\n      <td>11.0</td>\n      <td>1.0</td>\n      <td>2631.0</td>\n      <td>W</td>\n      <td>011446</td>\n      <td>01</td>\n      <td>1957-03-01</td>\n      <td>2022-03-31</td>\n      <td>-0.159004</td>\n      <td>0001159297</td>\n      <td>2631</td>\n      <td>322130</td>\n      <td>151030</td>\n      <td>15103020</td>\n    </tr>\n    <tr>\n      <th>6</th>\n      <td>2000-01-31</td>\n      <td>52978.0</td>\n      <td>HASBRO INC</td>\n      <td>41805610</td>\n      <td>11.0</td>\n      <td>1.0</td>\n      <td>3944.0</td>\n      <td>HAS</td>\n      <td>005518</td>\n      <td>01</td>\n      <td>1984-09-13</td>\n      <td>2022-03-31</td>\n      <td>-0.204752</td>\n      <td>0000046080</td>\n      <td>3944</td>\n      <td>339930</td>\n      <td>252020</td>\n      <td>25202010</td>\n    </tr>\n    <tr>\n      <th>7</th>\n      <td>2000-01-31</td>\n      <td>21371.0</td>\n      <td>CARDINAL HEALTH INC</td>\n      <td>14149Y10</td>\n      <td>11.0</td>\n      <td>1.0</td>\n      <td>5122.0</td>\n      <td>CAH</td>\n      <td>002751</td>\n      <td>01</td>\n      <td>1997-05-27</td>\n      <td>2022-03-31</td>\n      <td>-0.003916</td>\n      <td>0000721371</td>\n      <td>5122</td>\n      <td>424210</td>\n      <td>351020</td>\n      <td>35102010</td>\n    </tr>\n    <tr>\n      <th>8</th>\n      <td>2000-01-31</td>\n      <td>75333.0</td>\n      <td>BURLINGTON RESOURCES INC</td>\n      <td>12201410</td>\n      <td>11.0</td>\n      <td>1.0</td>\n      <td>1311.0</td>\n      <td>BR</td>\n      <td>015084</td>\n      <td>01</td>\n      <td>1993-11-23</td>\n      <td>2006-03-31</td>\n      <td>-0.030246</td>\n      <td>0000833320</td>\n      <td>1311</td>\n      <td>211111</td>\n      <td>101020</td>\n      <td>10102020</td>\n    </tr>\n    <tr>\n      <th>9</th>\n      <td>2000-01-31</td>\n      <td>23317.0</td>\n      <td>ENRON CORP</td>\n      <td>29356110</td>\n      <td>11.0</td>\n      <td>1.0</td>\n      <td>1311.0</td>\n      <td>ENE</td>\n      <td>006127</td>\n      <td>01</td>\n      <td>1951-09-06</td>\n      <td>2001-11-29</td>\n      <td>0.529577</td>\n      <td>0001024401</td>\n      <td>5172</td>\n      <td>422720</td>\n      <td>551050</td>\n      <td>55105010</td>\n    </tr>\n    <tr>\n      <th>10</th>\n      <td>2000-01-31</td>\n      <td>64995.0</td>\n      <td>KEYCORP NEW</td>\n      <td>49326710</td>\n      <td>11.0</td>\n      <td>1.0</td>\n      <td>6021.0</td>\n      <td>KEY</td>\n      <td>009783</td>\n      <td>01</td>\n      <td>1994-03-02</td>\n      <td>2022-03-31</td>\n      <td>-0.050847</td>\n      <td>0000091576</td>\n      <td>6020</td>\n      <td>522110</td>\n      <td>401010</td>\n      <td>40101015</td>\n    </tr>\n    <tr>\n      <th>11</th>\n      <td>2000-01-31</td>\n      <td>39490.0</td>\n      <td>APACHE CORP</td>\n      <td>03741110</td>\n      <td>11.0</td>\n      <td>1.0</td>\n      <td>1311.0</td>\n      <td>APA</td>\n      <td>001678</td>\n      <td>01</td>\n      <td>1997-07-28</td>\n      <td>2022-03-31</td>\n      <td>-0.011844</td>\n      <td>0001841666</td>\n      <td>1311</td>\n      <td>2111</td>\n      <td>101020</td>\n      <td>10102020</td>\n    </tr>\n    <tr>\n      <th>12</th>\n      <td>2000-01-31</td>\n      <td>17144.0</td>\n      <td>GENERAL MILLS INC</td>\n      <td>37033410</td>\n      <td>11.0</td>\n      <td>1.0</td>\n      <td>2099.0</td>\n      <td>GIS</td>\n      <td>005071</td>\n      <td>01</td>\n      <td>1969-02-13</td>\n      <td>2022-03-31</td>\n      <td>-0.119930</td>\n      <td>0000040704</td>\n      <td>2040</td>\n      <td>311230</td>\n      <td>302020</td>\n      <td>30202030</td>\n    </tr>\n    <tr>\n      <th>13</th>\n      <td>2000-01-31</td>\n      <td>84372.0</td>\n      <td>N C R CORP NEW</td>\n      <td>62886E10</td>\n      <td>11.0</td>\n      <td>1.0</td>\n      <td>3575.0</td>\n      <td>NCR</td>\n      <td>007648</td>\n      <td>01</td>\n      <td>2000-01-03</td>\n      <td>2007-09-28</td>\n      <td>0.016502</td>\n      <td>0000070866</td>\n      <td>7372</td>\n      <td>511210</td>\n      <td>451030</td>\n      <td>45103010</td>\n    </tr>\n    <tr>\n      <th>14</th>\n      <td>2000-01-31</td>\n      <td>75857.0</td>\n      <td>SOLECTRON CORP</td>\n      <td>83418210</td>\n      <td>11.0</td>\n      <td>1.0</td>\n      <td>3672.0</td>\n      <td>SLR</td>\n      <td>017110</td>\n      <td>01</td>\n      <td>1998-12-31</td>\n      <td>2007-10-01</td>\n      <td>-0.236531</td>\n      <td>0000835541</td>\n      <td>3672</td>\n      <td>334412</td>\n      <td>452030</td>\n      <td>45203020</td>\n    </tr>\n    <tr>\n      <th>15</th>\n      <td>2000-01-31</td>\n      <td>75489.0</td>\n      <td>STAPLES INC</td>\n      <td>85503010</td>\n      <td>11.0</td>\n      <td>3.0</td>\n      <td>5940.0</td>\n      <td>SPLS</td>\n      <td>015521</td>\n      <td>01</td>\n      <td>1998-10-07</td>\n      <td>2017-09-15</td>\n      <td>0.147590</td>\n      <td>0000791519</td>\n      <td>5110</td>\n      <td>424120</td>\n      <td>255040</td>\n      <td>25504040</td>\n    </tr>\n    <tr>\n      <th>16</th>\n      <td>2000-01-31</td>\n      <td>88388.0</td>\n      <td>MEDIAONE GROUP INC</td>\n      <td>58440J10</td>\n      <td>11.0</td>\n      <td>1.0</td>\n      <td>4813.0</td>\n      <td>UMG</td>\n      <td>061464</td>\n      <td>01</td>\n      <td>1998-06-15</td>\n      <td>2000-06-15</td>\n      <td>0.034988</td>\n      <td>0000732718</td>\n      <td>4841</td>\n      <td>513220</td>\n      <td>254010</td>\n      <td>25401020</td>\n    </tr>\n    <tr>\n      <th>17</th>\n      <td>2000-01-31</td>\n      <td>59408.0</td>\n      <td>BANK OF AMERICA CORP</td>\n      <td>06050510</td>\n      <td>11.0</td>\n      <td>1.0</td>\n      <td>6021.0</td>\n      <td>BAC</td>\n      <td>007647</td>\n      <td>01</td>\n      <td>1976-07-01</td>\n      <td>2022-03-31</td>\n      <td>-0.034869</td>\n      <td>0000070858</td>\n      <td>6020</td>\n      <td>522110</td>\n      <td>401010</td>\n      <td>40101010</td>\n    </tr>\n    <tr>\n      <th>18</th>\n      <td>2000-01-31</td>\n      <td>40483.0</td>\n      <td>TIME WARNER INC</td>\n      <td>88731510</td>\n      <td>11.0</td>\n      <td>1.0</td>\n      <td>7812.0</td>\n      <td>TWX</td>\n      <td>010576</td>\n      <td>01</td>\n      <td>1964-04-23</td>\n      <td>2001-01-12</td>\n      <td>0.105445</td>\n      <td>0001021387</td>\n      <td>7812</td>\n      <td>512110</td>\n      <td>254010</td>\n      <td>25401030</td>\n    </tr>\n    <tr>\n      <th>19</th>\n      <td>2000-01-31</td>\n      <td>66800.0</td>\n      <td>AMERICAN INTERNATIONAL GROUP INC</td>\n      <td>02687410</td>\n      <td>11.0</td>\n      <td>1.0</td>\n      <td>6331.0</td>\n      <td>AIG</td>\n      <td>001487</td>\n      <td>01</td>\n      <td>1980-02-14</td>\n      <td>2022-03-31</td>\n      <td>-0.034682</td>\n      <td>0000005272</td>\n      <td>6331</td>\n      <td>524126</td>\n      <td>403010</td>\n      <td>40301030</td>\n    </tr>\n  </tbody>\n</table>\n</div>"
     },
     "execution_count": 6,
     "metadata": {},
     "output_type": "execute_result"
    }
   ],
   "source": [
    "\n",
    "# Impose the date range restrictions\n",
    "sp500_full = sp500_full.loc[(sp500_full.date>=sp500_full.namedt) \\\n",
    "                            & (sp500_full.date<=sp500_full.nameendt)]\n",
    "\n",
    "\n",
    "### Add Other Company Identifiers from CRSP.MSENAMES\n",
    "\n",
    "mse = conn.raw_sql(\"\"\"\n",
    "                        select comnam, ncusip, namedt, nameendt,\n",
    "                        permno, shrcd, exchcd, hsiccd, ticker\n",
    "                        from crsp.msenames\n",
    "                        \"\"\", date_cols=['namedt', 'nameendt'])\n",
    "\n",
    "# if nameendt is missing then set to today date\n",
    "mse['nameendt']=mse['nameendt'].fillna(pd.to_datetime('today'))\n",
    "\n",
    "# Merge with SP500 data\n",
    "sp500_full = pd.merge(sp500, mse, how = 'left', on = 'permno')\n",
    "\n",
    "# Impose the date range restrictions\n",
    "sp500_full = sp500_full.loc[(sp500_full.date>=sp500_full.namedt) \\\n",
    "                            & (sp500_full.date<=sp500_full.nameendt)]\n",
    "\n",
    "\n",
    "### Add Compustat Identifiers\n",
    "\n",
    "ccm=conn.raw_sql(\"\"\"\n",
    "                  select gvkey, liid as iid, lpermno as permno,\n",
    "                  linktype, linkprim, linkdt, linkenddt\n",
    "                  from crsp.ccmxpf_linktable\n",
    "                  where substr(linktype,1,1)='L'\n",
    "                  and (linkprim ='C' or linkprim='P')\n",
    "                  \"\"\", date_cols=['linkdt', 'linkenddt'])\n",
    "\n",
    "# if linkenddt is missing then set to today date\n",
    "ccm['linkenddt']=ccm['linkenddt'].fillna(pd.to_datetime('today'))\n",
    "\n",
    "# Merge the CCM data with S&P500 data\n",
    "# First just link by matching PERMNO\n",
    "sp500ccm = pd.merge(sp500_full, ccm, how='left', on=['permno'])\n",
    "\n",
    "# Then set link date bounds\n",
    "sp500ccm = sp500ccm.loc[(sp500ccm['date']>=sp500ccm['linkdt'])\\\n",
    "                        &(sp500ccm['date']<=sp500ccm['linkenddt'])]\n",
    "\n",
    "# Rearrange columns for final output\n",
    "\n",
    "sp500ccm = sp500ccm.drop(columns=['namedt', 'nameendt', 'linktype', \\\n",
    "                                  'linkprim', 'linkdt', 'linkenddt'])\n",
    "sp500ccm = sp500ccm[['date', 'permno', 'comnam', 'ncusip',\\\n",
    "                     'shrcd', 'exchcd', 'hsiccd', 'ticker', \\\n",
    "                     'gvkey', 'iid', 'start', 'ending', 'ret']]\n",
    "\n",
    "\n",
    "### Add CIKs and Link with SEC Index Files using CIK\n",
    "\n",
    "names = conn.raw_sql(\"\"\" select gvkey, cik, sic, naics, gind, gsubind from comp.names \"\"\")\n",
    "\n",
    "# Merge sp500 constituents table with names table\n",
    "sp500 = pd.merge(sp500ccm, names, on='gvkey',  how='left')\n",
    "sp500.head(20)"
   ],
   "metadata": {
    "collapsed": false,
    "pycharm": {
     "name": "#%%\n"
    }
   }
  },
  {
   "cell_type": "code",
   "execution_count": 12,
   "outputs": [],
   "source": [
    "# Getting a two-year sample of records for 2020 and 2021\n",
    "\n",
    "sp500_sample = sp500.loc['01/01/2020' <= sp500.date][['date',\n",
    "                                                                    'permno',\n",
    "                                                      'comnam',\n",
    "                                               'ncusip', 'gvkey', 'iid', 'cik', 'ticker', 'sic', 'naics']]\n",
    "\n",
    "sp500_sample = sp500_sample.loc[sp500.date <= '01/01/2022'][['date',\n",
    "                                                                    'permno',\n",
    "                                                      'comnam',\n",
    "                                               'ncusip', 'gvkey', 'iid', 'cik', 'ticker', 'sic', 'naics']]"
   ],
   "metadata": {
    "collapsed": false,
    "pycharm": {
     "name": "#%%\n"
    }
   }
  },
  {
   "cell_type": "code",
   "execution_count": 13,
   "outputs": [
    {
     "data": {
      "text/plain": "             date   permno                        comnam    ncusip   gvkey  \\\n120131 2020-01-31  34746.0           FIFTH THIRD BANCORP  31677310  004640   \n120132 2020-01-31  75591.0                     IDEX CORP  45167R10  015267   \n120133 2020-01-31  14541.0              CHEVRON CORP NEW  16676410  002991   \n120134 2020-01-31  14593.0                     APPLE INC  03783310  001690   \n120135 2020-01-31  75341.0              DUKE REALTY CORP  26441150  013510   \n...           ...      ...                           ...       ...     ...   \n132138 2021-12-31  93096.0       DOLLAR GENERAL CORP NEW  25667710  004016   \n132139 2021-12-31  19502.0  WALGREENS BOOTS ALLIANCE INC  93142710  011264   \n132140 2021-12-31  69796.0      CONSTELLATION BRANDS INC  21036P10  002710   \n132141 2021-12-31  62092.0  THERMO FISHER SCIENTIFIC INC  88355610  010530   \n132142 2021-12-31  85269.0        VALERO ENERGY CORP NEW  91913Y10  015247   \n\n       iid         cik ticker   sic   naics  \n120131  01  0000035527   FITB  6020  522110  \n120132  01  0000832101    IEX  3561  333914  \n120133  01  0000093410    CVX  2911  324110  \n120134  01  0000320193   AAPL  3663  334220  \n120135  01  0000783280    DRE  6798  531120  \n...     ..         ...    ...   ...     ...  \n132138  02  0000029534     DG  5331  452319  \n132139  01  0001618921    WBA  5912  446110  \n132140  02  0000016918    STZ  2082  312120  \n132141  01  0000097745    TMO  3826  334516  \n132142  01  0001035002    VLO  2911  324110  \n\n[12012 rows x 10 columns]",
      "text/html": "<div>\n<style scoped>\n    .dataframe tbody tr th:only-of-type {\n        vertical-align: middle;\n    }\n\n    .dataframe tbody tr th {\n        vertical-align: top;\n    }\n\n    .dataframe thead th {\n        text-align: right;\n    }\n</style>\n<table border=\"1\" class=\"dataframe\">\n  <thead>\n    <tr style=\"text-align: right;\">\n      <th></th>\n      <th>date</th>\n      <th>permno</th>\n      <th>comnam</th>\n      <th>ncusip</th>\n      <th>gvkey</th>\n      <th>iid</th>\n      <th>cik</th>\n      <th>ticker</th>\n      <th>sic</th>\n      <th>naics</th>\n    </tr>\n  </thead>\n  <tbody>\n    <tr>\n      <th>120131</th>\n      <td>2020-01-31</td>\n      <td>34746.0</td>\n      <td>FIFTH THIRD BANCORP</td>\n      <td>31677310</td>\n      <td>004640</td>\n      <td>01</td>\n      <td>0000035527</td>\n      <td>FITB</td>\n      <td>6020</td>\n      <td>522110</td>\n    </tr>\n    <tr>\n      <th>120132</th>\n      <td>2020-01-31</td>\n      <td>75591.0</td>\n      <td>IDEX CORP</td>\n      <td>45167R10</td>\n      <td>015267</td>\n      <td>01</td>\n      <td>0000832101</td>\n      <td>IEX</td>\n      <td>3561</td>\n      <td>333914</td>\n    </tr>\n    <tr>\n      <th>120133</th>\n      <td>2020-01-31</td>\n      <td>14541.0</td>\n      <td>CHEVRON CORP NEW</td>\n      <td>16676410</td>\n      <td>002991</td>\n      <td>01</td>\n      <td>0000093410</td>\n      <td>CVX</td>\n      <td>2911</td>\n      <td>324110</td>\n    </tr>\n    <tr>\n      <th>120134</th>\n      <td>2020-01-31</td>\n      <td>14593.0</td>\n      <td>APPLE INC</td>\n      <td>03783310</td>\n      <td>001690</td>\n      <td>01</td>\n      <td>0000320193</td>\n      <td>AAPL</td>\n      <td>3663</td>\n      <td>334220</td>\n    </tr>\n    <tr>\n      <th>120135</th>\n      <td>2020-01-31</td>\n      <td>75341.0</td>\n      <td>DUKE REALTY CORP</td>\n      <td>26441150</td>\n      <td>013510</td>\n      <td>01</td>\n      <td>0000783280</td>\n      <td>DRE</td>\n      <td>6798</td>\n      <td>531120</td>\n    </tr>\n    <tr>\n      <th>...</th>\n      <td>...</td>\n      <td>...</td>\n      <td>...</td>\n      <td>...</td>\n      <td>...</td>\n      <td>...</td>\n      <td>...</td>\n      <td>...</td>\n      <td>...</td>\n      <td>...</td>\n    </tr>\n    <tr>\n      <th>132138</th>\n      <td>2021-12-31</td>\n      <td>93096.0</td>\n      <td>DOLLAR GENERAL CORP NEW</td>\n      <td>25667710</td>\n      <td>004016</td>\n      <td>02</td>\n      <td>0000029534</td>\n      <td>DG</td>\n      <td>5331</td>\n      <td>452319</td>\n    </tr>\n    <tr>\n      <th>132139</th>\n      <td>2021-12-31</td>\n      <td>19502.0</td>\n      <td>WALGREENS BOOTS ALLIANCE INC</td>\n      <td>93142710</td>\n      <td>011264</td>\n      <td>01</td>\n      <td>0001618921</td>\n      <td>WBA</td>\n      <td>5912</td>\n      <td>446110</td>\n    </tr>\n    <tr>\n      <th>132140</th>\n      <td>2021-12-31</td>\n      <td>69796.0</td>\n      <td>CONSTELLATION BRANDS INC</td>\n      <td>21036P10</td>\n      <td>002710</td>\n      <td>02</td>\n      <td>0000016918</td>\n      <td>STZ</td>\n      <td>2082</td>\n      <td>312120</td>\n    </tr>\n    <tr>\n      <th>132141</th>\n      <td>2021-12-31</td>\n      <td>62092.0</td>\n      <td>THERMO FISHER SCIENTIFIC INC</td>\n      <td>88355610</td>\n      <td>010530</td>\n      <td>01</td>\n      <td>0000097745</td>\n      <td>TMO</td>\n      <td>3826</td>\n      <td>334516</td>\n    </tr>\n    <tr>\n      <th>132142</th>\n      <td>2021-12-31</td>\n      <td>85269.0</td>\n      <td>VALERO ENERGY CORP NEW</td>\n      <td>91913Y10</td>\n      <td>015247</td>\n      <td>01</td>\n      <td>0001035002</td>\n      <td>VLO</td>\n      <td>2911</td>\n      <td>324110</td>\n    </tr>\n  </tbody>\n</table>\n<p>12012 rows × 10 columns</p>\n</div>"
     },
     "execution_count": 13,
     "metadata": {},
     "output_type": "execute_result"
    }
   ],
   "source": [
    "sp500_sample"
   ],
   "metadata": {
    "collapsed": false,
    "pycharm": {
     "name": "#%%\n"
    }
   }
  },
  {
   "cell_type": "code",
   "execution_count": 7,
   "outputs": [],
   "source": [
    "from datetime import datetime\n",
    "from dateutil.relativedelta import relativedelta\n",
    "\n",
    "# increment the current date by 1 month\n",
    "def get_next_month(date):\n",
    "    DATE_FORMAT = \"%Y-%m-%d\"\n",
    "    datetime_date = datetime.strptime(date, DATE_FORMAT)\n",
    "    new_date = datetime_date + relativedelta(months=1)\n",
    "    return new_date.strftime(DATE_FORMAT)"
   ],
   "metadata": {
    "collapsed": false,
    "pycharm": {
     "name": "#%%\n"
    }
   }
  },
  {
   "cell_type": "code",
   "execution_count": 8,
   "outputs": [],
   "source": [
    "from sec_edgar_downloader import Downloader\n",
    "\n",
    "def get_filing(ticker, date, dir):\n",
    "    num_filings = 0\n",
    "    dl = Downloader(dir)\n",
    "    num_filings += dl.get(\"10-Q\", ticker, after=date, before=get_next_month\n",
    "    (date))\n",
    "    num_filings += dl.get(\"10-K\", ticker, after=date, before=get_next_month\n",
    "    (date))\n",
    "    return num_filings"
   ],
   "metadata": {
    "collapsed": false,
    "pycharm": {
     "name": "#%%\n"
    }
   }
  },
  {
   "cell_type": "code",
   "execution_count": 9,
   "outputs": [],
   "source": [
    "# this function retrieves all S&P 500 10-Q or 10-K filings for a given month,\n",
    "# if such a filing exists for a given company\n",
    "# the date should be passed in the following format: YYYY-MM-DD\n",
    "def get_all_sp_filings(date, dir):\n",
    "    num_filings = 0\n",
    "    sp500_companies = sp500_sample.loc[sp500_sample.date == date][['date',\n",
    "                                                                    'permno',\n",
    "                                                      'comnam',\n",
    "                                               'ncusip', 'gvkey', 'iid', 'cik', 'ticker', 'sic', 'naics']]\n",
    "    sp500_tickers = sp500_companies['ticker']\n",
    "\n",
    "    for ticker in sp500_tickers:\n",
    "        num_filings += get_filing(ticker, date, dir)\n",
    "\n",
    "    return num_filings"
   ],
   "metadata": {
    "collapsed": false,
    "pycharm": {
     "name": "#%%\n"
    }
   }
  },
  {
   "cell_type": "code",
   "execution_count": null,
   "outputs": [
    {
     "ename": "KeyboardInterrupt",
     "evalue": "",
     "output_type": "error",
     "traceback": [
      "\u001B[0;31m---------------------------------------------------------------------------\u001B[0m",
      "\u001B[0;31mKeyboardInterrupt\u001B[0m                         Traceback (most recent call last)",
      "Cell \u001B[0;32mIn [52], line 3\u001B[0m\n\u001B[1;32m      1\u001B[0m DATA_FOLDER \u001B[38;5;241m=\u001B[39m \u001B[38;5;124m\"\u001B[39m\u001B[38;5;124mdata\u001B[39m\u001B[38;5;124m\"\u001B[39m\n\u001B[0;32m----> 3\u001B[0m filings \u001B[38;5;241m=\u001B[39m \u001B[43mget_all_sp_filings\u001B[49m\u001B[43m(\u001B[49m\u001B[38;5;124;43m\"\u001B[39;49m\u001B[38;5;124;43m2020-01-31\u001B[39;49m\u001B[38;5;124;43m\"\u001B[39;49m\u001B[43m,\u001B[49m\u001B[43m \u001B[49m\u001B[43mDATA_FOLDER\u001B[49m\u001B[43m)\u001B[49m\n\u001B[1;32m      4\u001B[0m filings\n",
      "Cell \u001B[0;32mIn [51], line 13\u001B[0m, in \u001B[0;36mget_all_sp_filings\u001B[0;34m(date, dir)\u001B[0m\n\u001B[1;32m     10\u001B[0m sp500_tickers \u001B[38;5;241m=\u001B[39m sp500_companies[\u001B[38;5;124m'\u001B[39m\u001B[38;5;124mticker\u001B[39m\u001B[38;5;124m'\u001B[39m]\n\u001B[1;32m     12\u001B[0m \u001B[38;5;28;01mfor\u001B[39;00m ticker \u001B[38;5;129;01min\u001B[39;00m sp500_tickers:\n\u001B[0;32m---> 13\u001B[0m     num_filings \u001B[38;5;241m+\u001B[39m\u001B[38;5;241m=\u001B[39m \u001B[43mget_filing\u001B[49m\u001B[43m(\u001B[49m\u001B[43mticker\u001B[49m\u001B[43m,\u001B[49m\u001B[43m \u001B[49m\u001B[43mdate\u001B[49m\u001B[43m,\u001B[49m\u001B[43m \u001B[49m\u001B[38;5;28;43mdir\u001B[39;49m\u001B[43m)\u001B[49m\n\u001B[1;32m     15\u001B[0m \u001B[38;5;28;01mreturn\u001B[39;00m num_filings\n",
      "Cell \u001B[0;32mIn [50], line 8\u001B[0m, in \u001B[0;36mget_filing\u001B[0;34m(ticker, date, dir)\u001B[0m\n\u001B[1;32m      5\u001B[0m dl \u001B[38;5;241m=\u001B[39m Downloader(\u001B[38;5;28mdir\u001B[39m)\n\u001B[1;32m      6\u001B[0m num_filings \u001B[38;5;241m+\u001B[39m\u001B[38;5;241m=\u001B[39m dl\u001B[38;5;241m.\u001B[39mget(\u001B[38;5;124m\"\u001B[39m\u001B[38;5;124m10-Q\u001B[39m\u001B[38;5;124m\"\u001B[39m, ticker, after\u001B[38;5;241m=\u001B[39mdate, before\u001B[38;5;241m=\u001B[39mget_next_month\n\u001B[1;32m      7\u001B[0m (date))\n\u001B[0;32m----> 8\u001B[0m num_filings \u001B[38;5;241m+\u001B[39m\u001B[38;5;241m=\u001B[39m \u001B[43mdl\u001B[49m\u001B[38;5;241;43m.\u001B[39;49m\u001B[43mget\u001B[49m\u001B[43m(\u001B[49m\u001B[38;5;124;43m\"\u001B[39;49m\u001B[38;5;124;43m10-K\u001B[39;49m\u001B[38;5;124;43m\"\u001B[39;49m\u001B[43m,\u001B[49m\u001B[43m \u001B[49m\u001B[43mticker\u001B[49m\u001B[43m,\u001B[49m\u001B[43m \u001B[49m\u001B[43mafter\u001B[49m\u001B[38;5;241;43m=\u001B[39;49m\u001B[43mdate\u001B[49m\u001B[43m,\u001B[49m\u001B[43m \u001B[49m\u001B[43mbefore\u001B[49m\u001B[38;5;241;43m=\u001B[39;49m\u001B[43mget_next_month\u001B[49m\n\u001B[1;32m      9\u001B[0m \u001B[43m\u001B[49m\u001B[43m(\u001B[49m\u001B[43mdate\u001B[49m\u001B[43m)\u001B[49m\u001B[43m)\u001B[49m\n\u001B[1;32m     10\u001B[0m \u001B[38;5;28;01mreturn\u001B[39;00m num_filings\n",
      "File \u001B[0;32m~/NYU-Fall-2022/nlp-finance/10k-sentiment-analysis/venv/lib/python3.9/site-packages/sec_edgar_downloader/Downloader.py:173\u001B[0m, in \u001B[0;36mDownloader.get\u001B[0;34m(self, filing, ticker_or_cik, amount, after, before, include_amends, download_details, query)\u001B[0m\n\u001B[1;32m    170\u001B[0m \u001B[38;5;28;01mif\u001B[39;00m \u001B[38;5;129;01mnot\u001B[39;00m \u001B[38;5;28misinstance\u001B[39m(query, \u001B[38;5;28mstr\u001B[39m):\n\u001B[1;32m    171\u001B[0m     \u001B[38;5;28;01mraise\u001B[39;00m \u001B[38;5;167;01mTypeError\u001B[39;00m(\u001B[38;5;124m\"\u001B[39m\u001B[38;5;124mQuery must be of type string.\u001B[39m\u001B[38;5;124m\"\u001B[39m)\n\u001B[0;32m--> 173\u001B[0m filings_to_fetch \u001B[38;5;241m=\u001B[39m \u001B[43mget_filing_urls_to_download\u001B[49m\u001B[43m(\u001B[49m\n\u001B[1;32m    174\u001B[0m \u001B[43m    \u001B[49m\u001B[43mfiling\u001B[49m\u001B[43m,\u001B[49m\n\u001B[1;32m    175\u001B[0m \u001B[43m    \u001B[49m\u001B[43mticker_or_cik\u001B[49m\u001B[43m,\u001B[49m\n\u001B[1;32m    176\u001B[0m \u001B[43m    \u001B[49m\u001B[43mamount\u001B[49m\u001B[43m,\u001B[49m\n\u001B[1;32m    177\u001B[0m \u001B[43m    \u001B[49m\u001B[43mafter\u001B[49m\u001B[43m,\u001B[49m\n\u001B[1;32m    178\u001B[0m \u001B[43m    \u001B[49m\u001B[43mbefore\u001B[49m\u001B[43m,\u001B[49m\n\u001B[1;32m    179\u001B[0m \u001B[43m    \u001B[49m\u001B[43minclude_amends\u001B[49m\u001B[43m,\u001B[49m\n\u001B[1;32m    180\u001B[0m \u001B[43m    \u001B[49m\u001B[43mquery\u001B[49m\u001B[43m,\u001B[49m\n\u001B[1;32m    181\u001B[0m \u001B[43m\u001B[49m\u001B[43m)\u001B[49m\n\u001B[1;32m    183\u001B[0m download_filings(\n\u001B[1;32m    184\u001B[0m     \u001B[38;5;28mself\u001B[39m\u001B[38;5;241m.\u001B[39mdownload_folder,\n\u001B[1;32m    185\u001B[0m     ticker_or_cik,\n\u001B[0;32m   (...)\u001B[0m\n\u001B[1;32m    188\u001B[0m     download_details,\n\u001B[1;32m    189\u001B[0m )\n\u001B[1;32m    191\u001B[0m \u001B[38;5;66;03m# Get number of unique accession numbers downloaded\u001B[39;00m\n",
      "File \u001B[0;32m~/NYU-Fall-2022/nlp-finance/10k-sentiment-analysis/venv/lib/python3.9/site-packages/sec_edgar_downloader/_utils.py:160\u001B[0m, in \u001B[0;36mget_filing_urls_to_download\u001B[0;34m(filing_type, ticker_or_cik, num_filings_to_download, after_date, before_date, include_amends, query)\u001B[0m\n\u001B[1;32m    147\u001B[0m payload \u001B[38;5;241m=\u001B[39m form_request_payload(\n\u001B[1;32m    148\u001B[0m     ticker_or_cik,\n\u001B[1;32m    149\u001B[0m     [filing_type],\n\u001B[0;32m   (...)\u001B[0m\n\u001B[1;32m    153\u001B[0m     query,\n\u001B[1;32m    154\u001B[0m )\n\u001B[1;32m    155\u001B[0m headers \u001B[38;5;241m=\u001B[39m {\n\u001B[1;32m    156\u001B[0m     \u001B[38;5;124m\"\u001B[39m\u001B[38;5;124mUser-Agent\u001B[39m\u001B[38;5;124m\"\u001B[39m: generate_random_user_agent(),\n\u001B[1;32m    157\u001B[0m     \u001B[38;5;124m\"\u001B[39m\u001B[38;5;124mAccept-Encoding\u001B[39m\u001B[38;5;124m\"\u001B[39m: \u001B[38;5;124m\"\u001B[39m\u001B[38;5;124mgzip, deflate\u001B[39m\u001B[38;5;124m\"\u001B[39m,\n\u001B[1;32m    158\u001B[0m     \u001B[38;5;124m\"\u001B[39m\u001B[38;5;124mHost\u001B[39m\u001B[38;5;124m\"\u001B[39m: \u001B[38;5;124m\"\u001B[39m\u001B[38;5;124mefts.sec.gov\u001B[39m\u001B[38;5;124m\"\u001B[39m,\n\u001B[1;32m    159\u001B[0m }\n\u001B[0;32m--> 160\u001B[0m resp \u001B[38;5;241m=\u001B[39m \u001B[43mclient\u001B[49m\u001B[38;5;241;43m.\u001B[39;49m\u001B[43mpost\u001B[49m\u001B[43m(\u001B[49m\n\u001B[1;32m    161\u001B[0m \u001B[43m    \u001B[49m\u001B[43mSEC_EDGAR_SEARCH_API_ENDPOINT\u001B[49m\u001B[43m,\u001B[49m\u001B[43m \u001B[49m\u001B[43mjson\u001B[49m\u001B[38;5;241;43m=\u001B[39;49m\u001B[43mpayload\u001B[49m\u001B[43m,\u001B[49m\u001B[43m \u001B[49m\u001B[43mheaders\u001B[49m\u001B[38;5;241;43m=\u001B[39;49m\u001B[43mheaders\u001B[49m\n\u001B[1;32m    162\u001B[0m \u001B[43m\u001B[49m\u001B[43m)\u001B[49m\n\u001B[1;32m    163\u001B[0m resp\u001B[38;5;241m.\u001B[39mraise_for_status()\n\u001B[1;32m    164\u001B[0m search_query_results \u001B[38;5;241m=\u001B[39m resp\u001B[38;5;241m.\u001B[39mjson()\n",
      "File \u001B[0;32m~/NYU-Fall-2022/nlp-finance/10k-sentiment-analysis/venv/lib/python3.9/site-packages/requests/sessions.py:635\u001B[0m, in \u001B[0;36mSession.post\u001B[0;34m(self, url, data, json, **kwargs)\u001B[0m\n\u001B[1;32m    624\u001B[0m \u001B[38;5;28;01mdef\u001B[39;00m \u001B[38;5;21mpost\u001B[39m(\u001B[38;5;28mself\u001B[39m, url, data\u001B[38;5;241m=\u001B[39m\u001B[38;5;28;01mNone\u001B[39;00m, json\u001B[38;5;241m=\u001B[39m\u001B[38;5;28;01mNone\u001B[39;00m, \u001B[38;5;241m*\u001B[39m\u001B[38;5;241m*\u001B[39mkwargs):\n\u001B[1;32m    625\u001B[0m     \u001B[38;5;124mr\u001B[39m\u001B[38;5;124;03m\"\"\"Sends a POST request. Returns :class:`Response` object.\u001B[39;00m\n\u001B[1;32m    626\u001B[0m \n\u001B[1;32m    627\u001B[0m \u001B[38;5;124;03m    :param url: URL for the new :class:`Request` object.\u001B[39;00m\n\u001B[0;32m   (...)\u001B[0m\n\u001B[1;32m    632\u001B[0m \u001B[38;5;124;03m    :rtype: requests.Response\u001B[39;00m\n\u001B[1;32m    633\u001B[0m \u001B[38;5;124;03m    \"\"\"\u001B[39;00m\n\u001B[0;32m--> 635\u001B[0m     \u001B[38;5;28;01mreturn\u001B[39;00m \u001B[38;5;28;43mself\u001B[39;49m\u001B[38;5;241;43m.\u001B[39;49m\u001B[43mrequest\u001B[49m\u001B[43m(\u001B[49m\u001B[38;5;124;43m\"\u001B[39;49m\u001B[38;5;124;43mPOST\u001B[39;49m\u001B[38;5;124;43m\"\u001B[39;49m\u001B[43m,\u001B[49m\u001B[43m \u001B[49m\u001B[43murl\u001B[49m\u001B[43m,\u001B[49m\u001B[43m \u001B[49m\u001B[43mdata\u001B[49m\u001B[38;5;241;43m=\u001B[39;49m\u001B[43mdata\u001B[49m\u001B[43m,\u001B[49m\u001B[43m \u001B[49m\u001B[43mjson\u001B[49m\u001B[38;5;241;43m=\u001B[39;49m\u001B[43mjson\u001B[49m\u001B[43m,\u001B[49m\u001B[43m \u001B[49m\u001B[38;5;241;43m*\u001B[39;49m\u001B[38;5;241;43m*\u001B[39;49m\u001B[43mkwargs\u001B[49m\u001B[43m)\u001B[49m\n",
      "File \u001B[0;32m~/NYU-Fall-2022/nlp-finance/10k-sentiment-analysis/venv/lib/python3.9/site-packages/requests/sessions.py:587\u001B[0m, in \u001B[0;36mSession.request\u001B[0;34m(self, method, url, params, data, headers, cookies, files, auth, timeout, allow_redirects, proxies, hooks, stream, verify, cert, json)\u001B[0m\n\u001B[1;32m    582\u001B[0m send_kwargs \u001B[38;5;241m=\u001B[39m {\n\u001B[1;32m    583\u001B[0m     \u001B[38;5;124m\"\u001B[39m\u001B[38;5;124mtimeout\u001B[39m\u001B[38;5;124m\"\u001B[39m: timeout,\n\u001B[1;32m    584\u001B[0m     \u001B[38;5;124m\"\u001B[39m\u001B[38;5;124mallow_redirects\u001B[39m\u001B[38;5;124m\"\u001B[39m: allow_redirects,\n\u001B[1;32m    585\u001B[0m }\n\u001B[1;32m    586\u001B[0m send_kwargs\u001B[38;5;241m.\u001B[39mupdate(settings)\n\u001B[0;32m--> 587\u001B[0m resp \u001B[38;5;241m=\u001B[39m \u001B[38;5;28;43mself\u001B[39;49m\u001B[38;5;241;43m.\u001B[39;49m\u001B[43msend\u001B[49m\u001B[43m(\u001B[49m\u001B[43mprep\u001B[49m\u001B[43m,\u001B[49m\u001B[43m \u001B[49m\u001B[38;5;241;43m*\u001B[39;49m\u001B[38;5;241;43m*\u001B[39;49m\u001B[43msend_kwargs\u001B[49m\u001B[43m)\u001B[49m\n\u001B[1;32m    589\u001B[0m \u001B[38;5;28;01mreturn\u001B[39;00m resp\n",
      "File \u001B[0;32m~/NYU-Fall-2022/nlp-finance/10k-sentiment-analysis/venv/lib/python3.9/site-packages/requests/sessions.py:701\u001B[0m, in \u001B[0;36mSession.send\u001B[0;34m(self, request, **kwargs)\u001B[0m\n\u001B[1;32m    698\u001B[0m start \u001B[38;5;241m=\u001B[39m preferred_clock()\n\u001B[1;32m    700\u001B[0m \u001B[38;5;66;03m# Send the request\u001B[39;00m\n\u001B[0;32m--> 701\u001B[0m r \u001B[38;5;241m=\u001B[39m \u001B[43madapter\u001B[49m\u001B[38;5;241;43m.\u001B[39;49m\u001B[43msend\u001B[49m\u001B[43m(\u001B[49m\u001B[43mrequest\u001B[49m\u001B[43m,\u001B[49m\u001B[43m \u001B[49m\u001B[38;5;241;43m*\u001B[39;49m\u001B[38;5;241;43m*\u001B[39;49m\u001B[43mkwargs\u001B[49m\u001B[43m)\u001B[49m\n\u001B[1;32m    703\u001B[0m \u001B[38;5;66;03m# Total elapsed time of the request (approximately)\u001B[39;00m\n\u001B[1;32m    704\u001B[0m elapsed \u001B[38;5;241m=\u001B[39m preferred_clock() \u001B[38;5;241m-\u001B[39m start\n",
      "File \u001B[0;32m~/NYU-Fall-2022/nlp-finance/10k-sentiment-analysis/venv/lib/python3.9/site-packages/requests/adapters.py:489\u001B[0m, in \u001B[0;36mHTTPAdapter.send\u001B[0;34m(self, request, stream, timeout, verify, cert, proxies)\u001B[0m\n\u001B[1;32m    487\u001B[0m \u001B[38;5;28;01mtry\u001B[39;00m:\n\u001B[1;32m    488\u001B[0m     \u001B[38;5;28;01mif\u001B[39;00m \u001B[38;5;129;01mnot\u001B[39;00m chunked:\n\u001B[0;32m--> 489\u001B[0m         resp \u001B[38;5;241m=\u001B[39m \u001B[43mconn\u001B[49m\u001B[38;5;241;43m.\u001B[39;49m\u001B[43murlopen\u001B[49m\u001B[43m(\u001B[49m\n\u001B[1;32m    490\u001B[0m \u001B[43m            \u001B[49m\u001B[43mmethod\u001B[49m\u001B[38;5;241;43m=\u001B[39;49m\u001B[43mrequest\u001B[49m\u001B[38;5;241;43m.\u001B[39;49m\u001B[43mmethod\u001B[49m\u001B[43m,\u001B[49m\n\u001B[1;32m    491\u001B[0m \u001B[43m            \u001B[49m\u001B[43murl\u001B[49m\u001B[38;5;241;43m=\u001B[39;49m\u001B[43murl\u001B[49m\u001B[43m,\u001B[49m\n\u001B[1;32m    492\u001B[0m \u001B[43m            \u001B[49m\u001B[43mbody\u001B[49m\u001B[38;5;241;43m=\u001B[39;49m\u001B[43mrequest\u001B[49m\u001B[38;5;241;43m.\u001B[39;49m\u001B[43mbody\u001B[49m\u001B[43m,\u001B[49m\n\u001B[1;32m    493\u001B[0m \u001B[43m            \u001B[49m\u001B[43mheaders\u001B[49m\u001B[38;5;241;43m=\u001B[39;49m\u001B[43mrequest\u001B[49m\u001B[38;5;241;43m.\u001B[39;49m\u001B[43mheaders\u001B[49m\u001B[43m,\u001B[49m\n\u001B[1;32m    494\u001B[0m \u001B[43m            \u001B[49m\u001B[43mredirect\u001B[49m\u001B[38;5;241;43m=\u001B[39;49m\u001B[38;5;28;43;01mFalse\u001B[39;49;00m\u001B[43m,\u001B[49m\n\u001B[1;32m    495\u001B[0m \u001B[43m            \u001B[49m\u001B[43massert_same_host\u001B[49m\u001B[38;5;241;43m=\u001B[39;49m\u001B[38;5;28;43;01mFalse\u001B[39;49;00m\u001B[43m,\u001B[49m\n\u001B[1;32m    496\u001B[0m \u001B[43m            \u001B[49m\u001B[43mpreload_content\u001B[49m\u001B[38;5;241;43m=\u001B[39;49m\u001B[38;5;28;43;01mFalse\u001B[39;49;00m\u001B[43m,\u001B[49m\n\u001B[1;32m    497\u001B[0m \u001B[43m            \u001B[49m\u001B[43mdecode_content\u001B[49m\u001B[38;5;241;43m=\u001B[39;49m\u001B[38;5;28;43;01mFalse\u001B[39;49;00m\u001B[43m,\u001B[49m\n\u001B[1;32m    498\u001B[0m \u001B[43m            \u001B[49m\u001B[43mretries\u001B[49m\u001B[38;5;241;43m=\u001B[39;49m\u001B[38;5;28;43mself\u001B[39;49m\u001B[38;5;241;43m.\u001B[39;49m\u001B[43mmax_retries\u001B[49m\u001B[43m,\u001B[49m\n\u001B[1;32m    499\u001B[0m \u001B[43m            \u001B[49m\u001B[43mtimeout\u001B[49m\u001B[38;5;241;43m=\u001B[39;49m\u001B[43mtimeout\u001B[49m\u001B[43m,\u001B[49m\n\u001B[1;32m    500\u001B[0m \u001B[43m        \u001B[49m\u001B[43m)\u001B[49m\n\u001B[1;32m    502\u001B[0m     \u001B[38;5;66;03m# Send the request.\u001B[39;00m\n\u001B[1;32m    503\u001B[0m     \u001B[38;5;28;01melse\u001B[39;00m:\n\u001B[1;32m    504\u001B[0m         \u001B[38;5;28;01mif\u001B[39;00m \u001B[38;5;28mhasattr\u001B[39m(conn, \u001B[38;5;124m\"\u001B[39m\u001B[38;5;124mproxy_pool\u001B[39m\u001B[38;5;124m\"\u001B[39m):\n",
      "File \u001B[0;32m~/NYU-Fall-2022/nlp-finance/10k-sentiment-analysis/venv/lib/python3.9/site-packages/urllib3/connectionpool.py:703\u001B[0m, in \u001B[0;36mHTTPConnectionPool.urlopen\u001B[0;34m(self, method, url, body, headers, retries, redirect, assert_same_host, timeout, pool_timeout, release_conn, chunked, body_pos, **response_kw)\u001B[0m\n\u001B[1;32m    700\u001B[0m     \u001B[38;5;28mself\u001B[39m\u001B[38;5;241m.\u001B[39m_prepare_proxy(conn)\n\u001B[1;32m    702\u001B[0m \u001B[38;5;66;03m# Make the request on the httplib connection object.\u001B[39;00m\n\u001B[0;32m--> 703\u001B[0m httplib_response \u001B[38;5;241m=\u001B[39m \u001B[38;5;28;43mself\u001B[39;49m\u001B[38;5;241;43m.\u001B[39;49m\u001B[43m_make_request\u001B[49m\u001B[43m(\u001B[49m\n\u001B[1;32m    704\u001B[0m \u001B[43m    \u001B[49m\u001B[43mconn\u001B[49m\u001B[43m,\u001B[49m\n\u001B[1;32m    705\u001B[0m \u001B[43m    \u001B[49m\u001B[43mmethod\u001B[49m\u001B[43m,\u001B[49m\n\u001B[1;32m    706\u001B[0m \u001B[43m    \u001B[49m\u001B[43murl\u001B[49m\u001B[43m,\u001B[49m\n\u001B[1;32m    707\u001B[0m \u001B[43m    \u001B[49m\u001B[43mtimeout\u001B[49m\u001B[38;5;241;43m=\u001B[39;49m\u001B[43mtimeout_obj\u001B[49m\u001B[43m,\u001B[49m\n\u001B[1;32m    708\u001B[0m \u001B[43m    \u001B[49m\u001B[43mbody\u001B[49m\u001B[38;5;241;43m=\u001B[39;49m\u001B[43mbody\u001B[49m\u001B[43m,\u001B[49m\n\u001B[1;32m    709\u001B[0m \u001B[43m    \u001B[49m\u001B[43mheaders\u001B[49m\u001B[38;5;241;43m=\u001B[39;49m\u001B[43mheaders\u001B[49m\u001B[43m,\u001B[49m\n\u001B[1;32m    710\u001B[0m \u001B[43m    \u001B[49m\u001B[43mchunked\u001B[49m\u001B[38;5;241;43m=\u001B[39;49m\u001B[43mchunked\u001B[49m\u001B[43m,\u001B[49m\n\u001B[1;32m    711\u001B[0m \u001B[43m\u001B[49m\u001B[43m)\u001B[49m\n\u001B[1;32m    713\u001B[0m \u001B[38;5;66;03m# If we're going to release the connection in ``finally:``, then\u001B[39;00m\n\u001B[1;32m    714\u001B[0m \u001B[38;5;66;03m# the response doesn't need to know about the connection. Otherwise\u001B[39;00m\n\u001B[1;32m    715\u001B[0m \u001B[38;5;66;03m# it will also try to release it and we'll have a double-release\u001B[39;00m\n\u001B[1;32m    716\u001B[0m \u001B[38;5;66;03m# mess.\u001B[39;00m\n\u001B[1;32m    717\u001B[0m response_conn \u001B[38;5;241m=\u001B[39m conn \u001B[38;5;28;01mif\u001B[39;00m \u001B[38;5;129;01mnot\u001B[39;00m release_conn \u001B[38;5;28;01melse\u001B[39;00m \u001B[38;5;28;01mNone\u001B[39;00m\n",
      "File \u001B[0;32m~/NYU-Fall-2022/nlp-finance/10k-sentiment-analysis/venv/lib/python3.9/site-packages/urllib3/connectionpool.py:449\u001B[0m, in \u001B[0;36mHTTPConnectionPool._make_request\u001B[0;34m(self, conn, method, url, timeout, chunked, **httplib_request_kw)\u001B[0m\n\u001B[1;32m    444\u001B[0m             httplib_response \u001B[38;5;241m=\u001B[39m conn\u001B[38;5;241m.\u001B[39mgetresponse()\n\u001B[1;32m    445\u001B[0m         \u001B[38;5;28;01mexcept\u001B[39;00m \u001B[38;5;167;01mBaseException\u001B[39;00m \u001B[38;5;28;01mas\u001B[39;00m e:\n\u001B[1;32m    446\u001B[0m             \u001B[38;5;66;03m# Remove the TypeError from the exception chain in\u001B[39;00m\n\u001B[1;32m    447\u001B[0m             \u001B[38;5;66;03m# Python 3 (including for exceptions like SystemExit).\u001B[39;00m\n\u001B[1;32m    448\u001B[0m             \u001B[38;5;66;03m# Otherwise it looks like a bug in the code.\u001B[39;00m\n\u001B[0;32m--> 449\u001B[0m             \u001B[43msix\u001B[49m\u001B[38;5;241;43m.\u001B[39;49m\u001B[43mraise_from\u001B[49m\u001B[43m(\u001B[49m\u001B[43me\u001B[49m\u001B[43m,\u001B[49m\u001B[43m \u001B[49m\u001B[38;5;28;43;01mNone\u001B[39;49;00m\u001B[43m)\u001B[49m\n\u001B[1;32m    450\u001B[0m \u001B[38;5;28;01mexcept\u001B[39;00m (SocketTimeout, BaseSSLError, SocketError) \u001B[38;5;28;01mas\u001B[39;00m e:\n\u001B[1;32m    451\u001B[0m     \u001B[38;5;28mself\u001B[39m\u001B[38;5;241m.\u001B[39m_raise_timeout(err\u001B[38;5;241m=\u001B[39me, url\u001B[38;5;241m=\u001B[39murl, timeout_value\u001B[38;5;241m=\u001B[39mread_timeout)\n",
      "File \u001B[0;32m<string>:3\u001B[0m, in \u001B[0;36mraise_from\u001B[0;34m(value, from_value)\u001B[0m\n",
      "File \u001B[0;32m~/NYU-Fall-2022/nlp-finance/10k-sentiment-analysis/venv/lib/python3.9/site-packages/urllib3/connectionpool.py:444\u001B[0m, in \u001B[0;36mHTTPConnectionPool._make_request\u001B[0;34m(self, conn, method, url, timeout, chunked, **httplib_request_kw)\u001B[0m\n\u001B[1;32m    441\u001B[0m \u001B[38;5;28;01mexcept\u001B[39;00m \u001B[38;5;167;01mTypeError\u001B[39;00m:\n\u001B[1;32m    442\u001B[0m     \u001B[38;5;66;03m# Python 3\u001B[39;00m\n\u001B[1;32m    443\u001B[0m     \u001B[38;5;28;01mtry\u001B[39;00m:\n\u001B[0;32m--> 444\u001B[0m         httplib_response \u001B[38;5;241m=\u001B[39m \u001B[43mconn\u001B[49m\u001B[38;5;241;43m.\u001B[39;49m\u001B[43mgetresponse\u001B[49m\u001B[43m(\u001B[49m\u001B[43m)\u001B[49m\n\u001B[1;32m    445\u001B[0m     \u001B[38;5;28;01mexcept\u001B[39;00m \u001B[38;5;167;01mBaseException\u001B[39;00m \u001B[38;5;28;01mas\u001B[39;00m e:\n\u001B[1;32m    446\u001B[0m         \u001B[38;5;66;03m# Remove the TypeError from the exception chain in\u001B[39;00m\n\u001B[1;32m    447\u001B[0m         \u001B[38;5;66;03m# Python 3 (including for exceptions like SystemExit).\u001B[39;00m\n\u001B[1;32m    448\u001B[0m         \u001B[38;5;66;03m# Otherwise it looks like a bug in the code.\u001B[39;00m\n\u001B[1;32m    449\u001B[0m         six\u001B[38;5;241m.\u001B[39mraise_from(e, \u001B[38;5;28;01mNone\u001B[39;00m)\n",
      "File \u001B[0;32m/Library/Frameworks/Python.framework/Versions/3.9/lib/python3.9/http/client.py:1377\u001B[0m, in \u001B[0;36mHTTPConnection.getresponse\u001B[0;34m(self)\u001B[0m\n\u001B[1;32m   1375\u001B[0m \u001B[38;5;28;01mtry\u001B[39;00m:\n\u001B[1;32m   1376\u001B[0m     \u001B[38;5;28;01mtry\u001B[39;00m:\n\u001B[0;32m-> 1377\u001B[0m         \u001B[43mresponse\u001B[49m\u001B[38;5;241;43m.\u001B[39;49m\u001B[43mbegin\u001B[49m\u001B[43m(\u001B[49m\u001B[43m)\u001B[49m\n\u001B[1;32m   1378\u001B[0m     \u001B[38;5;28;01mexcept\u001B[39;00m \u001B[38;5;167;01mConnectionError\u001B[39;00m:\n\u001B[1;32m   1379\u001B[0m         \u001B[38;5;28mself\u001B[39m\u001B[38;5;241m.\u001B[39mclose()\n",
      "File \u001B[0;32m/Library/Frameworks/Python.framework/Versions/3.9/lib/python3.9/http/client.py:320\u001B[0m, in \u001B[0;36mHTTPResponse.begin\u001B[0;34m(self)\u001B[0m\n\u001B[1;32m    318\u001B[0m \u001B[38;5;66;03m# read until we get a non-100 response\u001B[39;00m\n\u001B[1;32m    319\u001B[0m \u001B[38;5;28;01mwhile\u001B[39;00m \u001B[38;5;28;01mTrue\u001B[39;00m:\n\u001B[0;32m--> 320\u001B[0m     version, status, reason \u001B[38;5;241m=\u001B[39m \u001B[38;5;28;43mself\u001B[39;49m\u001B[38;5;241;43m.\u001B[39;49m\u001B[43m_read_status\u001B[49m\u001B[43m(\u001B[49m\u001B[43m)\u001B[49m\n\u001B[1;32m    321\u001B[0m     \u001B[38;5;28;01mif\u001B[39;00m status \u001B[38;5;241m!=\u001B[39m CONTINUE:\n\u001B[1;32m    322\u001B[0m         \u001B[38;5;28;01mbreak\u001B[39;00m\n",
      "File \u001B[0;32m/Library/Frameworks/Python.framework/Versions/3.9/lib/python3.9/http/client.py:281\u001B[0m, in \u001B[0;36mHTTPResponse._read_status\u001B[0;34m(self)\u001B[0m\n\u001B[1;32m    280\u001B[0m \u001B[38;5;28;01mdef\u001B[39;00m \u001B[38;5;21m_read_status\u001B[39m(\u001B[38;5;28mself\u001B[39m):\n\u001B[0;32m--> 281\u001B[0m     line \u001B[38;5;241m=\u001B[39m \u001B[38;5;28mstr\u001B[39m(\u001B[38;5;28;43mself\u001B[39;49m\u001B[38;5;241;43m.\u001B[39;49m\u001B[43mfp\u001B[49m\u001B[38;5;241;43m.\u001B[39;49m\u001B[43mreadline\u001B[49m\u001B[43m(\u001B[49m\u001B[43m_MAXLINE\u001B[49m\u001B[43m \u001B[49m\u001B[38;5;241;43m+\u001B[39;49m\u001B[43m \u001B[49m\u001B[38;5;241;43m1\u001B[39;49m\u001B[43m)\u001B[49m, \u001B[38;5;124m\"\u001B[39m\u001B[38;5;124miso-8859-1\u001B[39m\u001B[38;5;124m\"\u001B[39m)\n\u001B[1;32m    282\u001B[0m     \u001B[38;5;28;01mif\u001B[39;00m \u001B[38;5;28mlen\u001B[39m(line) \u001B[38;5;241m>\u001B[39m _MAXLINE:\n\u001B[1;32m    283\u001B[0m         \u001B[38;5;28;01mraise\u001B[39;00m LineTooLong(\u001B[38;5;124m\"\u001B[39m\u001B[38;5;124mstatus line\u001B[39m\u001B[38;5;124m\"\u001B[39m)\n",
      "File \u001B[0;32m/Library/Frameworks/Python.framework/Versions/3.9/lib/python3.9/socket.py:704\u001B[0m, in \u001B[0;36mSocketIO.readinto\u001B[0;34m(self, b)\u001B[0m\n\u001B[1;32m    702\u001B[0m \u001B[38;5;28;01mwhile\u001B[39;00m \u001B[38;5;28;01mTrue\u001B[39;00m:\n\u001B[1;32m    703\u001B[0m     \u001B[38;5;28;01mtry\u001B[39;00m:\n\u001B[0;32m--> 704\u001B[0m         \u001B[38;5;28;01mreturn\u001B[39;00m \u001B[38;5;28;43mself\u001B[39;49m\u001B[38;5;241;43m.\u001B[39;49m\u001B[43m_sock\u001B[49m\u001B[38;5;241;43m.\u001B[39;49m\u001B[43mrecv_into\u001B[49m\u001B[43m(\u001B[49m\u001B[43mb\u001B[49m\u001B[43m)\u001B[49m\n\u001B[1;32m    705\u001B[0m     \u001B[38;5;28;01mexcept\u001B[39;00m timeout:\n\u001B[1;32m    706\u001B[0m         \u001B[38;5;28mself\u001B[39m\u001B[38;5;241m.\u001B[39m_timeout_occurred \u001B[38;5;241m=\u001B[39m \u001B[38;5;28;01mTrue\u001B[39;00m\n",
      "File \u001B[0;32m/Library/Frameworks/Python.framework/Versions/3.9/lib/python3.9/ssl.py:1241\u001B[0m, in \u001B[0;36mSSLSocket.recv_into\u001B[0;34m(self, buffer, nbytes, flags)\u001B[0m\n\u001B[1;32m   1237\u001B[0m     \u001B[38;5;28;01mif\u001B[39;00m flags \u001B[38;5;241m!=\u001B[39m \u001B[38;5;241m0\u001B[39m:\n\u001B[1;32m   1238\u001B[0m         \u001B[38;5;28;01mraise\u001B[39;00m \u001B[38;5;167;01mValueError\u001B[39;00m(\n\u001B[1;32m   1239\u001B[0m           \u001B[38;5;124m\"\u001B[39m\u001B[38;5;124mnon-zero flags not allowed in calls to recv_into() on \u001B[39m\u001B[38;5;132;01m%s\u001B[39;00m\u001B[38;5;124m\"\u001B[39m \u001B[38;5;241m%\u001B[39m\n\u001B[1;32m   1240\u001B[0m           \u001B[38;5;28mself\u001B[39m\u001B[38;5;241m.\u001B[39m\u001B[38;5;18m__class__\u001B[39m)\n\u001B[0;32m-> 1241\u001B[0m     \u001B[38;5;28;01mreturn\u001B[39;00m \u001B[38;5;28;43mself\u001B[39;49m\u001B[38;5;241;43m.\u001B[39;49m\u001B[43mread\u001B[49m\u001B[43m(\u001B[49m\u001B[43mnbytes\u001B[49m\u001B[43m,\u001B[49m\u001B[43m \u001B[49m\u001B[43mbuffer\u001B[49m\u001B[43m)\u001B[49m\n\u001B[1;32m   1242\u001B[0m \u001B[38;5;28;01melse\u001B[39;00m:\n\u001B[1;32m   1243\u001B[0m     \u001B[38;5;28;01mreturn\u001B[39;00m \u001B[38;5;28msuper\u001B[39m()\u001B[38;5;241m.\u001B[39mrecv_into(buffer, nbytes, flags)\n",
      "File \u001B[0;32m/Library/Frameworks/Python.framework/Versions/3.9/lib/python3.9/ssl.py:1099\u001B[0m, in \u001B[0;36mSSLSocket.read\u001B[0;34m(self, len, buffer)\u001B[0m\n\u001B[1;32m   1097\u001B[0m \u001B[38;5;28;01mtry\u001B[39;00m:\n\u001B[1;32m   1098\u001B[0m     \u001B[38;5;28;01mif\u001B[39;00m buffer \u001B[38;5;129;01mis\u001B[39;00m \u001B[38;5;129;01mnot\u001B[39;00m \u001B[38;5;28;01mNone\u001B[39;00m:\n\u001B[0;32m-> 1099\u001B[0m         \u001B[38;5;28;01mreturn\u001B[39;00m \u001B[38;5;28;43mself\u001B[39;49m\u001B[38;5;241;43m.\u001B[39;49m\u001B[43m_sslobj\u001B[49m\u001B[38;5;241;43m.\u001B[39;49m\u001B[43mread\u001B[49m\u001B[43m(\u001B[49m\u001B[38;5;28;43mlen\u001B[39;49m\u001B[43m,\u001B[49m\u001B[43m \u001B[49m\u001B[43mbuffer\u001B[49m\u001B[43m)\u001B[49m\n\u001B[1;32m   1100\u001B[0m     \u001B[38;5;28;01melse\u001B[39;00m:\n\u001B[1;32m   1101\u001B[0m         \u001B[38;5;28;01mreturn\u001B[39;00m \u001B[38;5;28mself\u001B[39m\u001B[38;5;241m.\u001B[39m_sslobj\u001B[38;5;241m.\u001B[39mread(\u001B[38;5;28mlen\u001B[39m)\n",
      "\u001B[0;31mKeyboardInterrupt\u001B[0m: "
     ]
    }
   ],
   "source": [
    "DATA_FOLDER = \"data\"\n",
    "\n",
    "filings = get_all_sp_filings(\"2020-01-31\", DATA_FOLDER)\n",
    "filings"
   ],
   "metadata": {
    "collapsed": false,
    "pycharm": {
     "name": "#%%\n"
    }
   }
  },
  {
   "cell_type": "markdown",
   "source": [],
   "metadata": {
    "collapsed": false
   }
  },
  {
   "cell_type": "code",
   "execution_count": 10,
   "outputs": [],
   "source": [
    "# parsing the records\n",
    "from bs4 import BeautifulSoup"
   ],
   "metadata": {
    "collapsed": false,
    "pycharm": {
     "name": "#%%\n"
    }
   }
  },
  {
   "cell_type": "code",
   "execution_count": 11,
   "outputs": [],
   "source": [
    "with open(\"data/sec-edgar-filings/AAPL/10-Q/0000320193-20-000010/filing-details.html\") as fp:\n",
    "    soup = BeautifulSoup(fp, \"html.parser\")"
   ],
   "metadata": {
    "collapsed": false,
    "pycharm": {
     "name": "#%%\n"
    }
   }
  },
  {
   "cell_type": "code",
   "execution_count": 12,
   "outputs": [],
   "source": [
    "from bs4 import BeautifulSoup\n",
    "import os\n",
    "\n",
    "# this function retrieves all filing company tickers from a given directory\n",
    "def get_all_filing_tickers(dir_name):\n",
    "    files = os.listdir(dir_name + \"/sec-edgar-filings\")\n",
    "    return files"
   ],
   "metadata": {
    "collapsed": false,
    "pycharm": {
     "name": "#%%\n"
    }
   }
  },
  {
   "cell_type": "code",
   "execution_count": 13,
   "outputs": [
    {
     "name": "stdout",
     "output_type": "stream",
     "text": [
      "['VZ', 'AMZN', 'CNP', 'RCL', 'CAT', 'AAPL', 'KHC', 'AGN', 'ANET', 'CAH', 'FBHS', 'PFE', 'REG', 'APTV', 'AAL', 'CDW', 'MAR', 'VRSN', 'KMI', 'SPGI', 'ALLE', 'SYK', 'PEP', 'FRT', 'SNPS', 'PLD', 'MMM', 'EMN', 'AMT', 'ADI', 'MAA', 'DRE', 'FTV', 'MGM', 'VLO', 'EMR', 'SYY', 'GILD', 'SNA', 'MS', 'ALXN', 'CVX', 'NCLH', 'UHS', 'MO', 'TXN', 'UNM', 'BK', 'BLL', 'TTWO', 'HCA', 'CDNS', 'HII', 'CTSH', 'MCHP', 'VTR', 'HIG', 'ETFC', 'IPG', 'DISH', 'UNP', 'AMAT', 'LLY', 'NTAP', 'WAB', 'REGN', 'RSG', 'IR', 'IQV', 'LMT', 'CI', 'PPL', 'ANSS', 'EL', 'PSX', 'JNJ', 'QCOM', 'LNT', 'BAC', 'IT', 'SIVB', 'DHI', 'IRM', 'DGX', 'EQR', 'ED', 'DHR', 'HSIC', 'ALB', 'NLOK', 'WM', 'COG', 'RHI', 'TMO', 'ALL', 'BSX', 'FAST', 'ABBV', 'AFL', 'RMD', 'TWTR', 'EFX', 'LYB', 'PNR', 'KEY', 'ATVI', 'CHRW', 'COF', 'PRGO', 'VMC', 'HSY', 'T', 'CHTR', 'TAP', 'MCK', 'AIG', 'EBAY', 'F', 'NTRS', 'O', 'CFG', 'STE', 'PYPL', 'IBM', 'AMD', 'BWA', 'MHK', 'PG', 'INCY', 'XOM', 'USB', 'SO', 'LRCX', 'FOXA', 'DTE', 'BRK', 'ROP', 'AME', 'RJF', 'KMB', 'SPG', 'PEAK', 'YUM', 'FTI', 'PCAR', 'MDT', 'SYF', 'ABT', 'HOG', 'NOW', 'CSX', 'MPC', 'FCX', 'DOW', 'UDR', 'TRV', 'BA', 'FTNT', 'GE', 'ESS', 'HLT', 'MYL', 'INTU', 'DD', 'WDC', 'BIIB', 'ZION', 'APH', 'GL', 'NVDA', 'NEM', 'AMGN', 'CTVA', 'LEG', 'PWR', 'ZTS', 'COTY', 'NOV', 'AVB', 'GM', 'WAT', 'PXD', 'DE', 'IDXX', 'NLSN', 'CSCO', 'CVS', 'GD', 'KO', 'AXP', 'ARE', 'HAS', 'NBL', 'EA', 'LNC', 'ODFL', 'CTXS', 'EXC', 'CPRI', 'NWSA', 'CBOE', 'ZBRA', 'FANG', 'AMCR', 'ETN', 'XYL', 'BMY', 'FMC', 'ITW', 'TSN', 'CPRT', 'MTD', 'TSCO', 'SLG', 'MRO', 'LH', 'GWW', 'CL', 'PSA', 'BKNG', 'CB', 'PPG', 'IP', 'BKR', 'CTL', 'M', 'J', 'EIX', 'MLM', 'C', 'D', 'DVA', 'IEX', 'SRE', 'AON', 'VRTX', 'LUV', 'ABMD', 'RL', 'ECL', 'EOG', 'KIM', 'MCO', 'UTX', 'WRK', 'COP', 'ORLY', 'JPM', 'FLIR', 'WRB', 'AOS', 'RE', 'NSC', 'AES', 'HUM', 'NVR', 'STT', 'AIV', 'SCHW', 'GLW']\n"
     ]
    }
   ],
   "source": [
    "print(get_all_filing_tickers(\"data\"))"
   ],
   "metadata": {
    "collapsed": false,
    "pycharm": {
     "name": "#%%\n"
    }
   }
  },
  {
   "cell_type": "code",
   "execution_count": 14,
   "outputs": [],
   "source": [
    "from bs4 import BeautifulSoup\n",
    "\n",
    "FILING_DETAILS = \"filing-details.html\"\n",
    "FULL_SUBMISSION = \"full-submission.html\"\n",
    "\n",
    "def get_filings_from_ticker(ticker, dir_name, sec_filings):\n",
    "    for root, dirs, files in os.walk(dir_name + \"/sec-edgar-filings/\" + ticker):\n",
    "        for f in files:\n",
    "            if FILING_DETAILS in f:\n",
    "                with open(root + \"/\" + f) as fp:\n",
    "                    soup = BeautifulSoup(fp, \"html.parser\")\n",
    "                    sec_filings[ticker] = soup.get_text()\n",
    "    return sec_filings"
   ],
   "metadata": {
    "collapsed": false,
    "pycharm": {
     "name": "#%%\n"
    }
   }
  },
  {
   "cell_type": "code",
   "execution_count": 15,
   "outputs": [],
   "source": [
    "# TEST CODE\n",
    "filings = {}\n",
    "filings = get_filings_from_ticker(\"AAL\", \"data\", filings)"
   ],
   "metadata": {
    "collapsed": false,
    "pycharm": {
     "name": "#%%\n"
    }
   }
  },
  {
   "cell_type": "code",
   "execution_count": 16,
   "outputs": [
    {
     "name": "stderr",
     "output_type": "stream",
     "text": [
      "[nltk_data] Downloading package punkt to\n",
      "[nltk_data]     /Users/dennisfenchenko/nltk_data...\n",
      "[nltk_data]   Package punkt is already up-to-date!\n"
     ]
    },
    {
     "data": {
      "text/plain": "True"
     },
     "execution_count": 16,
     "metadata": {},
     "output_type": "execute_result"
    }
   ],
   "source": [
    "import nltk\n",
    "import ssl\n",
    "\n",
    "try:\n",
    "    _create_unverified_https_context = ssl._create_unverified_context\n",
    "except AttributeError:\n",
    "    pass\n",
    "else:\n",
    "    ssl._create_default_https_context = _create_unverified_https_context\n",
    "\n",
    "# nltk.download()\n",
    "nltk.download('punkt')"
   ],
   "metadata": {
    "collapsed": false,
    "pycharm": {
     "name": "#%%\n"
    }
   }
  },
  {
   "cell_type": "code",
   "execution_count": 17,
   "outputs": [],
   "source": [
    "from nltk.corpus import stopwords\n",
    "from nltk.tokenize import word_tokenize\n",
    "from nltk.tokenize import RegexpTokenizer"
   ],
   "metadata": {
    "collapsed": false,
    "pycharm": {
     "name": "#%%\n"
    }
   }
  },
  {
   "cell_type": "code",
   "execution_count": 19,
   "outputs": [],
   "source": [
    "# a function that tokenizes 10-K or 10-Q corpus that\n",
    "def tokenize_filing(filing_corpus):\n",
    "    filing_tokenizer = RegexpTokenizer(r'\\w+')\n",
    "    return filing_tokenizer.tokenize(filing_corpus)"
   ],
   "metadata": {
    "collapsed": false,
    "pycharm": {
     "name": "#%%\n"
    }
   }
  },
  {
   "cell_type": "code",
   "execution_count": 25,
   "outputs": [],
   "source": [
    "# a function to remove the stop words from the filings corpus\n",
    "def filter_stopwords(tokenized_filing_corpus):\n",
    "    stop_words = set(stopwords.words('english'))\n",
    "    filing_corpus_filtered = [word for word in tokenized_filing_corpus if not \\\n",
    "        word.lower() in stop_words]\n",
    "    return filing_corpus_filtered\n",
    "\n",
    "def filter_numbers(filing_corpus):\n",
    "    return [token for token in filing_corpus if not (token.isdigit()\n",
    "                                         or token[0] == '-' and token[1:].isdigit())]"
   ],
   "metadata": {
    "collapsed": false,
    "pycharm": {
     "name": "#%%\n"
    }
   }
  },
  {
   "cell_type": "code",
   "execution_count": 26,
   "outputs": [
    {
     "name": "stdout",
     "output_type": "stream",
     "text": [
      "817948\n",
      "474072\n"
     ]
    }
   ],
   "source": [
    "# TEST CODE\n",
    "filtered_corpus = filter_stopwords(filings.get(\"AAL\"))\n",
    "filtered_corpus = filter_numbers(filtered_corpus)\n",
    "print(len(filings.get(\"AAL\")))\n",
    "print(len(filtered_corpus))"
   ],
   "metadata": {
    "collapsed": false,
    "pycharm": {
     "name": "#%%\n"
    }
   }
  },
  {
   "cell_type": "code",
   "execution_count": 109,
   "outputs": [
    {
     "data": {
      "text/plain": "['acti',\n 'asia',\n 'asib',\n 'asic',\n 'asio',\n 'asix',\n 'bmdebt',\n 'bmheader',\n 'bmpaymts',\n 'bmquotes',\n 'bmyield',\n 'bndprt06',\n 'bndprt12',\n 'bxcalind',\n 'bxdlyind',\n 'bxmthind',\n 'bxquotes',\n 'bxyield',\n 'cap',\n 'ccm_lookup',\n 'ccm_qvards',\n 'ccmxpf_linktable',\n 'ccmxpf_lnkhist',\n 'ccmxpf_lnkrng',\n 'ccmxpf_lnkused',\n 'comphead',\n 'comphist',\n 'compmaster',\n 'contact_info',\n 'crsp_cik_map',\n 'crsp_daily_data',\n 'crsp_header',\n 'crsp_monthly_data',\n 'crsp_names',\n 'crsp_portno_map',\n 'crsp_ziman_daily_index',\n 'crsp_ziman_monthly_index',\n 'cs20yr',\n 'cs5yr',\n 'cs90d',\n 'cst_hist',\n 'daily_nav',\n 'daily_nav_ret',\n 'daily_returns',\n 'dividends',\n 'dport1',\n 'dport2',\n 'dport3',\n 'dport4',\n 'dport5',\n 'dport6',\n 'dport7',\n 'dport8',\n 'dport9',\n 'dsbc',\n 'dsbo',\n 'dse',\n 'dse62',\n 'dse62delist',\n 'dse62dist',\n 'dse62exchdates',\n 'dse62names',\n 'dse62nasdin',\n 'dse62shares',\n 'dseall',\n 'dseall62',\n 'dsedelist',\n 'dsedist',\n 'dseexchdates',\n 'dsenames',\n 'dsenasdin',\n 'dseshares',\n 'dsf',\n 'dsf62',\n 'dsf62_v2',\n 'dsf_v2',\n 'dsfhdr',\n 'dsfhdr62',\n 'dsi',\n 'dsi62',\n 'dsia',\n 'dsib',\n 'dsic',\n 'dsio',\n 'dsir',\n 'dsix',\n 'dsiy',\n 'dsp500',\n 'dsp500_v2',\n 'dsp500list',\n 'dsp500p',\n 'dssc',\n 'dsso',\n 'eod_cap',\n 'eod_sector',\n 'eod_vg',\n 'erdport1',\n 'erdport2',\n 'erdport3',\n 'erdport4',\n 'erdport5',\n 'erdport6',\n 'erdport7',\n 'erdport8',\n 'erdport9',\n 'ermport1',\n 'ermport2',\n 'ermport3',\n 'ermport4',\n 'ermport5',\n 'fbpri',\n 'fbyld',\n 'front_load',\n 'front_load_det',\n 'front_load_grp',\n 'fund_fees',\n 'fund_flows',\n 'fund_hdr',\n 'fund_hdr_hist',\n 'fund_names',\n 'fund_style',\n 'fund_summary',\n 'fund_summary2',\n 'fwdask06',\n 'fwdask12',\n 'fwdave06',\n 'fwdave12',\n 'fwdbid06',\n 'fwdbid12',\n 'hldask06',\n 'hldask12',\n 'hldave06',\n 'hldave12',\n 'hldbid06',\n 'hldbid12',\n 'holdings',\n 'holdings_co_info',\n 'inddlyseriesdata',\n 'inddlyseriesdata62',\n 'inddlyseriesdata_ind',\n 'index_descriptions',\n 'index_type_map',\n 'indfamilyinfohdr',\n 'indfamilyinfohdr62',\n 'indfamilyinfohdr_ind',\n 'indissrebalancesummary_ind',\n 'indmthseriesdata',\n 'indmthseriesdata62',\n 'indmthseriesdata_ind',\n 'indsecrebalancesummary_ind',\n 'indseriesinfohdr',\n 'indseriesinfohdr62',\n 'indseriesinfohdr_ind',\n 'mbi',\n 'mbmdat',\n 'mbmhdr',\n 'mbx',\n 'mbxid',\n 'mcti',\n 'metacalendarperiod',\n 'metacalendarperiod62',\n 'metacalendarperiod_ind',\n 'metacolumncoverage',\n 'metacolumncoverage62',\n 'metacolumncoverage_ind',\n 'metacolumninfo',\n 'metacolumninfo62',\n 'metacolumninfo_ind',\n 'metaexchangecalendar',\n 'metaexchangecalendar62',\n 'metaexchangecalendar_ind',\n 'metafileinfo',\n 'metafileinfo62',\n 'metafileinfo_ind',\n 'metaflagcoverage',\n 'metaflagcoverage62',\n 'metaflagcoverage_ind',\n 'metaflaginfo',\n 'metaflaginfo62',\n 'metaflaginfo_ind',\n 'metaflagtype',\n 'metaflagtype62',\n 'metaflagtype_ind',\n 'metaiteminfo',\n 'metaiteminfo62',\n 'metaiteminfo_ind',\n 'metasiztociz',\n 'metasiztociz62',\n 'metasiztociz_ind',\n 'mfdbname',\n 'mhista',\n 'mhistn',\n 'mhistq',\n 'monthly_nav',\n 'monthly_returns',\n 'monthly_tna',\n 'monthly_tna_ret_nav',\n 'mport1',\n 'mport2',\n 'mport3',\n 'mport4',\n 'mport5',\n 'mse',\n 'mse62',\n 'mse62delist',\n 'mse62dist',\n 'mse62exchdates',\n 'mse62names',\n 'mse62nasdin',\n 'mse62shares',\n 'mseall',\n 'mseall62',\n 'msedelist',\n 'msedist',\n 'mseexchdates',\n 'msenames',\n 'msenasdin',\n 'mseshares',\n 'msf',\n 'msf62',\n 'msf62_v2',\n 'msf_v2',\n 'msfhdr',\n 'msfhdr62',\n 'msi',\n 'msi62',\n 'msia',\n 'msib',\n 'msic',\n 'msio',\n 'msir',\n 'msix',\n 'msiy',\n 'msp500',\n 'msp500_v2',\n 'msp500list',\n 'msp500p',\n 'portnomap',\n 'priask06',\n 'priask12',\n 'priave06',\n 'priave12',\n 'pribid06',\n 'pribid12',\n 'price_type',\n 'property_type',\n 'qcti',\n 'qsia',\n 'qsib',\n 'qsic',\n 'qsio',\n 'qsix',\n 'rear_load',\n 'rear_load_det',\n 'rear_load_grp',\n 'rebala',\n 'rebaln',\n 'rebalq',\n 'reit_type',\n 'riskfree',\n 's6z_agg_ann',\n 's6z_agg_mth',\n 's6z_agg_qtr',\n 's6z_del',\n 's6z_dind',\n 's6z_dis',\n 's6z_dp_dly',\n 's6z_ds_dly',\n 's6z_hdr',\n 's6z_indhdr',\n 's6z_mdel',\n 's6z_mind',\n 's6z_mth',\n 's6z_nam',\n 's6z_ndi',\n 's6z_shr',\n 'saz_agg_ann',\n 'saz_agg_mth',\n 'saz_agg_qtr',\n 'saz_del',\n 'saz_dind',\n 'saz_dis',\n 'saz_dp_dly',\n 'saz_ds_dly',\n 'saz_hdr',\n 'saz_indhdr',\n 'saz_mdel',\n 'saz_mind',\n 'saz_mth',\n 'saz_nam',\n 'saz_ndi',\n 'saz_shr',\n 'sechead',\n 'sechist',\n 'sector',\n 'sfz_dind',\n 'sfz_indhdr',\n 'sfz_mbr',\n 'sfz_mind',\n 'sfz_portd',\n 'sfz_portm',\n 'sfz_rb',\n 'stkannsecuritydata',\n 'stkannsecuritydata62',\n 'stkdelists',\n 'stkdelists62',\n 'stkdistributions',\n 'stkdistributions62',\n 'stkdlysecuritydata',\n 'stkdlysecuritydata62',\n 'stkdlysecurityprimarydata',\n 'stkdlysecurityprimarydata62',\n 'stkissuerinfohdr',\n 'stkissuerinfohdr62',\n 'stkissuerinfohist',\n 'stkissuerinfohist62',\n 'stkmthfloatshares',\n 'stkmthfloatshares62',\n 'stkmthsecuritydata',\n 'stkmthsecuritydata62',\n 'stkqtrsecuritydata',\n 'stkqtrsecuritydata62',\n 'stksecurityinfohdr',\n 'stksecurityinfohdr62',\n 'stksecurityinfohist',\n 'stksecurityinfohist62',\n 'stkshares',\n 'stkshares62',\n 'stock_qvards',\n 'stocknames',\n 'stocknames62',\n 'stocknames62_v2',\n 'stocknames_v2',\n 'sub_property_type',\n 'tfz_dly',\n 'tfz_dly_cd',\n 'tfz_dly_cpi',\n 'tfz_dly_ft',\n 'tfz_dly_rf2',\n 'tfz_dly_ts2',\n 'tfz_idx',\n 'tfz_iss',\n 'tfz_mast',\n 'tfz_mth',\n 'tfz_mth_bp',\n 'tfz_mth_cd',\n 'tfz_mth_cpi',\n 'tfz_mth_fb',\n 'tfz_mth_ft',\n 'tfz_mth_rf',\n 'tfz_mth_rf2',\n 'tfz_mth_ts',\n 'tfz_mth_ts2',\n 'tfz_pay',\n 'vg',\n 'wrds_dailyindexret62_query',\n 'wrds_dailyindexret_query',\n 'wrds_dsf62v2_query',\n 'wrds_dsfv2_query',\n 'wrds_inddlytranspose_query',\n 'wrds_indmthtranspose_query',\n 'wrds_monthlyindexret62_query',\n 'wrds_monthlyindexret_query',\n 'wrds_msf62v2_query',\n 'wrds_msfv2_query',\n 'wrds_names62_query',\n 'wrds_names_query',\n 'yldask06',\n 'yldask12',\n 'yldave06',\n 'yldave12',\n 'yldbid06',\n 'yldbid12',\n 'ziman_reit_info',\n 'zr_hdrnames']"
     },
     "execution_count": 109,
     "metadata": {},
     "output_type": "execute_result"
    }
   ],
   "source": [
    "# get CRSP stock performance for each given company in a given quarter\n",
    "# we will use the Value-Weighted Return (including distributions) for that\n",
    "conn.list_tables(library='crsp')"
   ],
   "metadata": {
    "collapsed": false,
    "pycharm": {
     "name": "#%%\n"
    }
   }
  },
  {
   "cell_type": "code",
   "execution_count": 115,
   "outputs": [],
   "source": [
    "company = conn.get_table(library='crsp', table='msp500p', obs=5)"
   ],
   "metadata": {
    "collapsed": false,
    "pycharm": {
     "name": "#%%\n"
    }
   }
  },
  {
   "cell_type": "code",
   "execution_count": 116,
   "outputs": [
    {
     "data": {
      "text/plain": "        caldt    vwretd    vwretx    ewretd    ewretx      totval  totcnt  \\\n0  1925-12-31       NaN       NaN       NaN       NaN  15236829.5    89.0   \n1  1926-01-30 -0.001783 -0.003980  0.006457  0.003250  15277664.0    89.0   \n2  1926-02-27 -0.033296 -0.037876 -0.039979 -0.042451  14712894.9    89.0   \n3  1926-03-31 -0.057708 -0.062007 -0.067915 -0.073275  14012079.2    89.0   \n4  1926-04-30  0.038522  0.034856  0.031441  0.027121  14500482.2    89.0   \n\n       usdval  usdcnt  spindx    sprtrn  \n0         NaN     NaN   12.46       NaN  \n1  15236829.5    79.0   12.74  0.022472  \n2  15277664.0    81.0   12.18 -0.043956  \n3  14712894.9    81.0   11.46 -0.059113  \n4  14012079.2    82.0   11.72  0.022688  ",
      "text/html": "<div>\n<style scoped>\n    .dataframe tbody tr th:only-of-type {\n        vertical-align: middle;\n    }\n\n    .dataframe tbody tr th {\n        vertical-align: top;\n    }\n\n    .dataframe thead th {\n        text-align: right;\n    }\n</style>\n<table border=\"1\" class=\"dataframe\">\n  <thead>\n    <tr style=\"text-align: right;\">\n      <th></th>\n      <th>caldt</th>\n      <th>vwretd</th>\n      <th>vwretx</th>\n      <th>ewretd</th>\n      <th>ewretx</th>\n      <th>totval</th>\n      <th>totcnt</th>\n      <th>usdval</th>\n      <th>usdcnt</th>\n      <th>spindx</th>\n      <th>sprtrn</th>\n    </tr>\n  </thead>\n  <tbody>\n    <tr>\n      <th>0</th>\n      <td>1925-12-31</td>\n      <td>NaN</td>\n      <td>NaN</td>\n      <td>NaN</td>\n      <td>NaN</td>\n      <td>15236829.5</td>\n      <td>89.0</td>\n      <td>NaN</td>\n      <td>NaN</td>\n      <td>12.46</td>\n      <td>NaN</td>\n    </tr>\n    <tr>\n      <th>1</th>\n      <td>1926-01-30</td>\n      <td>-0.001783</td>\n      <td>-0.003980</td>\n      <td>0.006457</td>\n      <td>0.003250</td>\n      <td>15277664.0</td>\n      <td>89.0</td>\n      <td>15236829.5</td>\n      <td>79.0</td>\n      <td>12.74</td>\n      <td>0.022472</td>\n    </tr>\n    <tr>\n      <th>2</th>\n      <td>1926-02-27</td>\n      <td>-0.033296</td>\n      <td>-0.037876</td>\n      <td>-0.039979</td>\n      <td>-0.042451</td>\n      <td>14712894.9</td>\n      <td>89.0</td>\n      <td>15277664.0</td>\n      <td>81.0</td>\n      <td>12.18</td>\n      <td>-0.043956</td>\n    </tr>\n    <tr>\n      <th>3</th>\n      <td>1926-03-31</td>\n      <td>-0.057708</td>\n      <td>-0.062007</td>\n      <td>-0.067915</td>\n      <td>-0.073275</td>\n      <td>14012079.2</td>\n      <td>89.0</td>\n      <td>14712894.9</td>\n      <td>81.0</td>\n      <td>11.46</td>\n      <td>-0.059113</td>\n    </tr>\n    <tr>\n      <th>4</th>\n      <td>1926-04-30</td>\n      <td>0.038522</td>\n      <td>0.034856</td>\n      <td>0.031441</td>\n      <td>0.027121</td>\n      <td>14500482.2</td>\n      <td>89.0</td>\n      <td>14012079.2</td>\n      <td>82.0</td>\n      <td>11.72</td>\n      <td>0.022688</td>\n    </tr>\n  </tbody>\n</table>\n</div>"
     },
     "execution_count": 116,
     "metadata": {},
     "output_type": "execute_result"
    }
   ],
   "source": [
    "company"
   ],
   "metadata": {
    "collapsed": false,
    "pycharm": {
     "name": "#%%\n"
    }
   }
  },
  {
   "cell_type": "code",
   "execution_count": null,
   "outputs": [],
   "source": [
    "# Get 10Q filing data for each S&P 500 company in a given quarter"
   ],
   "metadata": {
    "collapsed": false,
    "pycharm": {
     "name": "#%%\n"
    }
   }
  },
  {
   "cell_type": "code",
   "execution_count": 1,
   "outputs": [],
   "source": [
    "# Perform sentiment analysis on filing documents\n",
    "import pysentiment2 as ps\n",
    "\n",
    "# get the Harvard general sentiment dictionary\n",
    "hiv4 = ps.HIV4()\n",
    "\n",
    "# get the Loughran and McDonald dictionary\n",
    "lm = ps.LM()"
   ],
   "metadata": {
    "collapsed": false,
    "pycharm": {
     "name": "#%%\n"
    }
   }
  },
  {
   "cell_type": "code",
   "execution_count": null,
   "outputs": [],
   "source": [],
   "metadata": {
    "collapsed": false,
    "pycharm": {
     "name": "#%%\n"
    }
   }
  }
 ],
 "metadata": {
  "kernelspec": {
   "display_name": "Python 3 (ipykernel)",
   "language": "python",
   "name": "python3"
  },
  "language_info": {
   "codemirror_mode": {
    "name": "ipython",
    "version": 3
   },
   "file_extension": ".py",
   "mimetype": "text/x-python",
   "name": "python",
   "nbconvert_exporter": "python",
   "pygments_lexer": "ipython3",
   "version": "3.9.9"
  }
 },
 "nbformat": 4,
 "nbformat_minor": 5
}